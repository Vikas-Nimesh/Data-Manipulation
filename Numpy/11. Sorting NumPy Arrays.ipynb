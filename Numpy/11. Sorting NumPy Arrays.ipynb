{
 "cells": [
  {
   "cell_type": "code",
   "execution_count": 1,
   "id": "80cb3127",
   "metadata": {},
   "outputs": [],
   "source": [
    "import numpy as np"
   ]
  },
  {
   "cell_type": "markdown",
   "id": "c669d6d2",
   "metadata": {},
   "source": [
    "# Sorting NumPy Arrays"
   ]
  },
  {
   "cell_type": "code",
   "execution_count": 2,
   "id": "7584f1c3",
   "metadata": {},
   "outputs": [
    {
     "data": {
      "text/plain": [
       "array([-0.05156031,  0.24018572, -0.72939004, -0.26642958,  0.71732645])"
      ]
     },
     "execution_count": 2,
     "metadata": {},
     "output_type": "execute_result"
    }
   ],
   "source": [
    "array = np.random.randn(5)\n",
    "array"
   ]
  },
  {
   "cell_type": "code",
   "execution_count": 4,
   "id": "f6d7b9a0",
   "metadata": {
    "scrolled": true
   },
   "outputs": [
    {
     "data": {
      "text/plain": [
       "array([-0.72939004, -0.26642958, -0.05156031,  0.24018572,  0.71732645])"
      ]
     },
     "execution_count": 4,
     "metadata": {},
     "output_type": "execute_result"
    }
   ],
   "source": [
    "array.sort() #this method manipulates the original array\n",
    "array"
   ]
  },
  {
   "cell_type": "markdown",
   "id": "7d01e5c6",
   "metadata": {},
   "source": [
    "# Ascending order"
   ]
  },
  {
   "cell_type": "code",
   "execution_count": 7,
   "id": "75b0ae1c",
   "metadata": {},
   "outputs": [
    {
     "data": {
      "text/plain": [
       "array([-0.72939004, -0.26642958, -0.05156031,  0.24018572,  0.71732645])"
      ]
     },
     "execution_count": 7,
     "metadata": {},
     "output_type": "execute_result"
    }
   ],
   "source": [
    "np.sort(array) #this method do not manipulates the original array"
   ]
  },
  {
   "cell_type": "markdown",
   "id": "473e8c95",
   "metadata": {},
   "source": [
    "# Descending order"
   ]
  },
  {
   "cell_type": "code",
   "execution_count": 8,
   "id": "e4ae9c9b",
   "metadata": {},
   "outputs": [
    {
     "data": {
      "text/plain": [
       "array([ 0.71732645,  0.24018572, -0.05156031, -0.26642958, -0.72939004])"
      ]
     },
     "execution_count": 8,
     "metadata": {},
     "output_type": "execute_result"
    }
   ],
   "source": [
    "np.sort(array)[::-1]"
   ]
  },
  {
   "cell_type": "code",
   "execution_count": 13,
   "id": "9cb7a0b4",
   "metadata": {},
   "outputs": [
    {
     "data": {
      "text/plain": [
       "array([[15,  0, 13],\n",
       "       [ 4,  8,  9],\n",
       "       [ 4, 11,  5]])"
      ]
     },
     "execution_count": 13,
     "metadata": {},
     "output_type": "execute_result"
    }
   ],
   "source": [
    "array2 = np.random.randint(20,size= (3,3))\n",
    "array2"
   ]
  },
  {
   "cell_type": "markdown",
   "id": "8b2d525d",
   "metadata": {},
   "source": [
    "# Sorting along with columns and rows"
   ]
  },
  {
   "cell_type": "code",
   "execution_count": 14,
   "id": "c60294a0",
   "metadata": {},
   "outputs": [
    {
     "data": {
      "text/plain": [
       "array([[ 0, 13, 15],\n",
       "       [ 4,  8,  9],\n",
       "       [ 4,  5, 11]])"
      ]
     },
     "execution_count": 14,
     "metadata": {},
     "output_type": "execute_result"
    }
   ],
   "source": [
    "array2.sort(1)\n",
    "array2"
   ]
  },
  {
   "cell_type": "code",
   "execution_count": 15,
   "id": "25196944",
   "metadata": {},
   "outputs": [
    {
     "data": {
      "text/plain": [
       "array([[ 0,  5,  9],\n",
       "       [ 4,  8, 11],\n",
       "       [ 4, 13, 15]])"
      ]
     },
     "execution_count": 15,
     "metadata": {},
     "output_type": "execute_result"
    }
   ],
   "source": [
    "array2.sort(0)\n",
    "array2"
   ]
  },
  {
   "cell_type": "markdown",
   "id": "049bb193",
   "metadata": {},
   "source": [
    "# Unique"
   ]
  },
  {
   "cell_type": "code",
   "execution_count": 16,
   "id": "550bb1b7",
   "metadata": {},
   "outputs": [
    {
     "data": {
      "text/plain": [
       "array([ 0,  4,  5,  8,  9, 11, 13, 15])"
      ]
     },
     "execution_count": 16,
     "metadata": {},
     "output_type": "execute_result"
    }
   ],
   "source": [
    "np.unique(array2)"
   ]
  },
  {
   "cell_type": "code",
   "execution_count": null,
   "id": "925e66d5",
   "metadata": {},
   "outputs": [],
   "source": []
  }
 ],
 "metadata": {
  "kernelspec": {
   "display_name": "Python 3 (ipykernel)",
   "language": "python",
   "name": "python3"
  },
  "language_info": {
   "codemirror_mode": {
    "name": "ipython",
    "version": 3
   },
   "file_extension": ".py",
   "mimetype": "text/x-python",
   "name": "python",
   "nbconvert_exporter": "python",
   "pygments_lexer": "ipython3",
   "version": "3.9.7"
  }
 },
 "nbformat": 4,
 "nbformat_minor": 5
}
