{
 "cells": [
  {
   "cell_type": "code",
   "execution_count": 1,
   "id": "91e1ab48",
   "metadata": {},
   "outputs": [],
   "source": [
    "import numpy as np"
   ]
  },
  {
   "cell_type": "markdown",
   "id": "2584ee8e",
   "metadata": {},
   "source": [
    "# Creating 1-D array"
   ]
  },
  {
   "cell_type": "code",
   "execution_count": 3,
   "id": "eb83873a",
   "metadata": {},
   "outputs": [
    {
     "data": {
      "text/plain": [
       "array([1, 2, 3, 4, 5])"
      ]
     },
     "execution_count": 3,
     "metadata": {},
     "output_type": "execute_result"
    }
   ],
   "source": [
    "list1 = [1,2,3,4,5]\n",
    "array = np.array(list1)\n",
    "array"
   ]
  },
  {
   "cell_type": "markdown",
   "id": "cd882e62",
   "metadata": {},
   "source": [
    "# Checking data type of array"
   ]
  },
  {
   "cell_type": "code",
   "execution_count": 4,
   "id": "0b292c7e",
   "metadata": {},
   "outputs": [
    {
     "data": {
      "text/plain": [
       "dtype('int32')"
      ]
     },
     "execution_count": 4,
     "metadata": {},
     "output_type": "execute_result"
    }
   ],
   "source": [
    "array.dtype"
   ]
  },
  {
   "cell_type": "markdown",
   "id": "10ef4589",
   "metadata": {},
   "source": [
    "# Creating 1-D array with particular datatype"
   ]
  },
  {
   "cell_type": "code",
   "execution_count": 6,
   "id": "01b19573",
   "metadata": {},
   "outputs": [
    {
     "data": {
      "text/plain": [
       "dtype('int16')"
      ]
     },
     "execution_count": 6,
     "metadata": {},
     "output_type": "execute_result"
    }
   ],
   "source": [
    "array2 = np.array(list1,dtype = 'int16')\n",
    "array2.dtype"
   ]
  },
  {
   "cell_type": "markdown",
   "id": "a006809d",
   "metadata": {},
   "source": [
    "# Changing data type of array"
   ]
  },
  {
   "cell_type": "code",
   "execution_count": 9,
   "id": "62214916",
   "metadata": {},
   "outputs": [
    {
     "data": {
      "text/plain": [
       "dtype('float64')"
      ]
     },
     "execution_count": 9,
     "metadata": {},
     "output_type": "execute_result"
    }
   ],
   "source": [
    "array_float = array.astype(np.float64)\n",
    "array_float.dtype"
   ]
  },
  {
   "cell_type": "code",
   "execution_count": 10,
   "id": "05d9137a",
   "metadata": {},
   "outputs": [
    {
     "data": {
      "text/plain": [
       "array([1., 2., 3., 4., 5.])"
      ]
     },
     "execution_count": 10,
     "metadata": {},
     "output_type": "execute_result"
    }
   ],
   "source": [
    "array_float"
   ]
  },
  {
   "cell_type": "markdown",
   "id": "82199af3",
   "metadata": {},
   "source": [
    "<br>"
   ]
  },
  {
   "cell_type": "code",
   "execution_count": 13,
   "id": "8a477505",
   "metadata": {},
   "outputs": [
    {
     "data": {
      "text/plain": [
       "dtype('<U1')"
      ]
     },
     "execution_count": 13,
     "metadata": {},
     "output_type": "execute_result"
    }
   ],
   "source": [
    "array_string = np.array([\"1\",\"2\",\"3\",\"4\"])\n",
    "array_string.dtype"
   ]
  },
  {
   "cell_type": "code",
   "execution_count": 14,
   "id": "72850549",
   "metadata": {},
   "outputs": [
    {
     "data": {
      "text/plain": [
       "dtype('int32')"
      ]
     },
     "execution_count": 14,
     "metadata": {},
     "output_type": "execute_result"
    }
   ],
   "source": [
    "array_string = array_string.astype(np.int32)\n",
    "array_string.dtype"
   ]
  },
  {
   "cell_type": "code",
   "execution_count": null,
   "id": "730f3348",
   "metadata": {},
   "outputs": [],
   "source": []
  }
 ],
 "metadata": {
  "kernelspec": {
   "display_name": "Python 3 (ipykernel)",
   "language": "python",
   "name": "python3"
  },
  "language_info": {
   "codemirror_mode": {
    "name": "ipython",
    "version": 3
   },
   "file_extension": ".py",
   "mimetype": "text/x-python",
   "name": "python",
   "nbconvert_exporter": "python",
   "pygments_lexer": "ipython3",
   "version": "3.9.7"
  }
 },
 "nbformat": 4,
 "nbformat_minor": 5
}
