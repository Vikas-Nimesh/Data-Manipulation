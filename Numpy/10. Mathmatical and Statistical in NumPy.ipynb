{
 "cells": [
  {
   "cell_type": "code",
   "execution_count": 1,
   "id": "05a439cf",
   "metadata": {},
   "outputs": [],
   "source": [
    "import numpy as np"
   ]
  },
  {
   "cell_type": "markdown",
   "id": "94328fe1",
   "metadata": {},
   "source": [
    "# Mathmatical and Statistical in NumPy"
   ]
  },
  {
   "cell_type": "code",
   "execution_count": 17,
   "id": "463724ac",
   "metadata": {},
   "outputs": [
    {
     "data": {
      "text/plain": [
       "array([[-2.0647,  0.1176,  0.7351, -0.48  ,  0.35  ],\n",
       "       [-1.5535, -1.8657, -0.7927,  0.4818, -0.4849],\n",
       "       [-0.8588, -0.1103, -1.3804,  0.7142, -0.7979],\n",
       "       [-0.1266,  0.5387, -1.134 ,  0.2811, -0.3727]])"
      ]
     },
     "execution_count": 17,
     "metadata": {},
     "output_type": "execute_result"
    }
   ],
   "source": [
    "np.set_printoptions(precision=4)\n",
    "array = np.random.randn(4,5)\n",
    "array"
   ]
  },
  {
   "cell_type": "markdown",
   "id": "64bac5c6",
   "metadata": {},
   "source": [
    "## Mean"
   ]
  },
  {
   "cell_type": "code",
   "execution_count": 19,
   "id": "d8c38000",
   "metadata": {},
   "outputs": [
    {
     "data": {
      "text/plain": [
       "-0.44018468864191507"
      ]
     },
     "execution_count": 19,
     "metadata": {},
     "output_type": "execute_result"
    }
   ],
   "source": [
    "array.mean()"
   ]
  },
  {
   "cell_type": "code",
   "execution_count": 20,
   "id": "6c808d3f",
   "metadata": {},
   "outputs": [
    {
     "data": {
      "text/plain": [
       "-0.44018468864191507"
      ]
     },
     "execution_count": 20,
     "metadata": {},
     "output_type": "execute_result"
    }
   ],
   "source": [
    "np.mean(array)"
   ]
  },
  {
   "cell_type": "markdown",
   "id": "8a8b0e56",
   "metadata": {},
   "source": [
    "# Meadian"
   ]
  },
  {
   "cell_type": "code",
   "execution_count": 21,
   "id": "87cf2061",
   "metadata": {
    "scrolled": true
   },
   "outputs": [
    {
     "data": {
      "text/plain": [
       "-0.4263587966617228"
      ]
     },
     "execution_count": 21,
     "metadata": {},
     "output_type": "execute_result"
    }
   ],
   "source": [
    "np.median(array)"
   ]
  },
  {
   "cell_type": "markdown",
   "id": "5ce96572",
   "metadata": {},
   "source": [
    "# Min"
   ]
  },
  {
   "cell_type": "code",
   "execution_count": 22,
   "id": "d65568c6",
   "metadata": {
    "scrolled": true
   },
   "outputs": [
    {
     "data": {
      "text/plain": [
       "-2.064696608560577"
      ]
     },
     "execution_count": 22,
     "metadata": {},
     "output_type": "execute_result"
    }
   ],
   "source": [
    "array.min()"
   ]
  },
  {
   "cell_type": "markdown",
   "id": "c42df697",
   "metadata": {},
   "source": [
    "# Max\n"
   ]
  },
  {
   "cell_type": "code",
   "execution_count": 23,
   "id": "58b8206f",
   "metadata": {},
   "outputs": [
    {
     "data": {
      "text/plain": [
       "0.735102668899207"
      ]
     },
     "execution_count": 23,
     "metadata": {},
     "output_type": "execute_result"
    }
   ],
   "source": [
    "array.max()"
   ]
  },
  {
   "cell_type": "markdown",
   "id": "0572fb57",
   "metadata": {},
   "source": [
    "# Standard Deviation"
   ]
  },
  {
   "cell_type": "code",
   "execution_count": 24,
   "id": "3cdd2240",
   "metadata": {},
   "outputs": [
    {
     "data": {
      "text/plain": [
       "0.8335622352202574"
      ]
     },
     "execution_count": 24,
     "metadata": {},
     "output_type": "execute_result"
    }
   ],
   "source": [
    "array.std()"
   ]
  },
  {
   "cell_type": "markdown",
   "id": "2775ad2f",
   "metadata": {},
   "source": [
    "# Index of minimum and maximum value"
   ]
  },
  {
   "cell_type": "code",
   "execution_count": 13,
   "id": "14fd6705",
   "metadata": {},
   "outputs": [
    {
     "data": {
      "text/plain": [
       "array([19, 49, 38,  1, 21, 49, 11, 38, 43,  9])"
      ]
     },
     "execution_count": 13,
     "metadata": {},
     "output_type": "execute_result"
    }
   ],
   "source": [
    "array1 = np.random.randint(50,size=(10))\n",
    "array1"
   ]
  },
  {
   "cell_type": "code",
   "execution_count": 14,
   "id": "11766501",
   "metadata": {},
   "outputs": [
    {
     "data": {
      "text/plain": [
       "1"
      ]
     },
     "execution_count": 14,
     "metadata": {},
     "output_type": "execute_result"
    }
   ],
   "source": [
    "array1.min()"
   ]
  },
  {
   "cell_type": "code",
   "execution_count": 15,
   "id": "51a14897",
   "metadata": {},
   "outputs": [
    {
     "data": {
      "text/plain": [
       "3"
      ]
     },
     "execution_count": 15,
     "metadata": {},
     "output_type": "execute_result"
    }
   ],
   "source": [
    "array1.argmin()"
   ]
  },
  {
   "cell_type": "code",
   "execution_count": 16,
   "id": "8bd36a16",
   "metadata": {},
   "outputs": [
    {
     "data": {
      "text/plain": [
       "1"
      ]
     },
     "execution_count": 16,
     "metadata": {},
     "output_type": "execute_result"
    }
   ],
   "source": [
    "array1.argmax()"
   ]
  },
  {
   "cell_type": "markdown",
   "id": "f2636d21",
   "metadata": {},
   "source": [
    "# Sum of rows"
   ]
  },
  {
   "cell_type": "code",
   "execution_count": 18,
   "id": "f4d5b4a0",
   "metadata": {
    "scrolled": true
   },
   "outputs": [
    {
     "data": {
      "text/plain": [
       "array([-4.6036, -1.3198, -2.5719,  0.9971, -1.3056])"
      ]
     },
     "execution_count": 18,
     "metadata": {},
     "output_type": "execute_result"
    }
   ],
   "source": [
    "array.sum(axis = 0)"
   ]
  },
  {
   "cell_type": "markdown",
   "id": "516d9bd1",
   "metadata": {},
   "source": [
    "# Sum of columns"
   ]
  },
  {
   "cell_type": "code",
   "execution_count": 25,
   "id": "b2e195b3",
   "metadata": {},
   "outputs": [
    {
     "data": {
      "text/plain": [
       "array([-1.342 , -4.2149, -2.4332, -0.8135])"
      ]
     },
     "execution_count": 25,
     "metadata": {},
     "output_type": "execute_result"
    }
   ],
   "source": [
    "array.sum(axis = 1)"
   ]
  },
  {
   "cell_type": "markdown",
   "id": "d8b9eac5",
   "metadata": {},
   "source": [
    "## If we have array of boolean sum() will return the count of True"
   ]
  },
  {
   "cell_type": "code",
   "execution_count": 28,
   "id": "7ca14ffa",
   "metadata": {},
   "outputs": [
    {
     "data": {
      "text/plain": [
       "array([ True, False,  True])"
      ]
     },
     "execution_count": 28,
     "metadata": {},
     "output_type": "execute_result"
    }
   ],
   "source": [
    "array2 = np.array([True,False,True])\n",
    "array2"
   ]
  },
  {
   "cell_type": "code",
   "execution_count": 29,
   "id": "d643585e",
   "metadata": {},
   "outputs": [
    {
     "data": {
      "text/plain": [
       "2"
      ]
     },
     "execution_count": 29,
     "metadata": {},
     "output_type": "execute_result"
    }
   ],
   "source": [
    "array2.sum()"
   ]
  },
  {
   "cell_type": "markdown",
   "id": "aec4d1c5",
   "metadata": {},
   "source": [
    "# Any () <br>\n",
    "It will return true if any value is true"
   ]
  },
  {
   "cell_type": "code",
   "execution_count": 30,
   "id": "90ee0973",
   "metadata": {
    "scrolled": true
   },
   "outputs": [
    {
     "data": {
      "text/plain": [
       "True"
      ]
     },
     "execution_count": 30,
     "metadata": {},
     "output_type": "execute_result"
    }
   ],
   "source": [
    "array2.any()"
   ]
  },
  {
   "cell_type": "markdown",
   "id": "09390eac",
   "metadata": {},
   "source": [
    "# All () <br>\n",
    "It will return true if all values is true"
   ]
  },
  {
   "cell_type": "code",
   "execution_count": 31,
   "id": "5a8a34cd",
   "metadata": {},
   "outputs": [
    {
     "data": {
      "text/plain": [
       "False"
      ]
     },
     "execution_count": 31,
     "metadata": {},
     "output_type": "execute_result"
    }
   ],
   "source": [
    "array2.all()"
   ]
  },
  {
   "cell_type": "code",
   "execution_count": null,
   "id": "3008b8d8",
   "metadata": {},
   "outputs": [],
   "source": []
  }
 ],
 "metadata": {
  "kernelspec": {
   "display_name": "Python 3 (ipykernel)",
   "language": "python",
   "name": "python3"
  },
  "language_info": {
   "codemirror_mode": {
    "name": "ipython",
    "version": 3
   },
   "file_extension": ".py",
   "mimetype": "text/x-python",
   "name": "python",
   "nbconvert_exporter": "python",
   "pygments_lexer": "ipython3",
   "version": "3.9.7"
  }
 },
 "nbformat": 4,
 "nbformat_minor": 5
}
