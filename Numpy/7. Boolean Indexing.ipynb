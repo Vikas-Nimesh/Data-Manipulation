{
 "cells": [
  {
   "cell_type": "code",
   "execution_count": 1,
   "id": "8b587518",
   "metadata": {},
   "outputs": [],
   "source": [
    "import numpy as np"
   ]
  },
  {
   "cell_type": "markdown",
   "id": "01c58684",
   "metadata": {},
   "source": [
    "# Boolean Indexing in NumPy \n",
    "<br> Boolean indexing always makes a new copy of data"
   ]
  },
  {
   "cell_type": "code",
   "execution_count": 2,
   "id": "c387fd71",
   "metadata": {},
   "outputs": [
    {
     "data": {
      "text/plain": [
       "array(['a', 'b', 'c', 'a', 'd', 'b', 'a'], dtype='<U1')"
      ]
     },
     "execution_count": 2,
     "metadata": {},
     "output_type": "execute_result"
    }
   ],
   "source": [
    "array1 = np.array(['a','b','c','a','d','b','a'])\n",
    "array1"
   ]
  },
  {
   "cell_type": "code",
   "execution_count": 7,
   "id": "71c3b8b5",
   "metadata": {},
   "outputs": [
    {
     "data": {
      "text/plain": [
       "array([22, 45, 22, 61, 19, 23, 31])"
      ]
     },
     "execution_count": 7,
     "metadata": {},
     "output_type": "execute_result"
    }
   ],
   "source": [
    "array2 = np.array([22,45,22,61,19,23,31])\n",
    "array2"
   ]
  },
  {
   "cell_type": "markdown",
   "id": "03eb4d63",
   "metadata": {},
   "source": [
    "Note: Length of array must be same.(as here is 7 in both arrays.) "
   ]
  },
  {
   "cell_type": "code",
   "execution_count": 8,
   "id": "f9b98e3e",
   "metadata": {},
   "outputs": [
    {
     "data": {
      "text/plain": [
       "array([ True, False, False,  True, False, False,  True])"
      ]
     },
     "execution_count": 8,
     "metadata": {},
     "output_type": "execute_result"
    }
   ],
   "source": [
    "array1 == 'a'"
   ]
  },
  {
   "cell_type": "code",
   "execution_count": 9,
   "id": "43aa3c87",
   "metadata": {},
   "outputs": [
    {
     "data": {
      "text/plain": [
       "array([22, 61, 31])"
      ]
     },
     "execution_count": 9,
     "metadata": {},
     "output_type": "execute_result"
    }
   ],
   "source": [
    "array2[array1 == 'a']"
   ]
  },
  {
   "cell_type": "code",
   "execution_count": 12,
   "id": "9f4ad91f",
   "metadata": {},
   "outputs": [
    {
     "data": {
      "text/plain": [
       "array([[-0.20742435, -0.4113353 ],\n",
       "       [ 0.48939344, -1.94445137],\n",
       "       [ 0.41962012, -0.34043125],\n",
       "       [-1.26532532, -1.28851556],\n",
       "       [ 0.17598314,  0.26238749],\n",
       "       [ 0.2508142 , -0.09968164],\n",
       "       [ 0.69985206, -1.03283076]])"
      ]
     },
     "execution_count": 12,
     "metadata": {},
     "output_type": "execute_result"
    }
   ],
   "source": [
    "# for 2-D arrays no. of rows are equal to the length of array\n",
    "array3 = np.random.randn(7,2) \n",
    "array3"
   ]
  },
  {
   "cell_type": "code",
   "execution_count": 13,
   "id": "d5a65b41",
   "metadata": {},
   "outputs": [
    {
     "data": {
      "text/plain": [
       "array([[-0.20742435, -0.4113353 ],\n",
       "       [-1.26532532, -1.28851556],\n",
       "       [ 0.69985206, -1.03283076]])"
      ]
     },
     "execution_count": 13,
     "metadata": {},
     "output_type": "execute_result"
    }
   ],
   "source": [
    "array3[array1 == 'a']"
   ]
  },
  {
   "cell_type": "code",
   "execution_count": 20,
   "id": "154fb257",
   "metadata": {},
   "outputs": [
    {
     "data": {
      "text/plain": [
       "array([[ 1, 23],\n",
       "       [ 4, 43],\n",
       "       [ 1, 17],\n",
       "       [ 3, 53],\n",
       "       [ 5, 23],\n",
       "       [ 1, 42],\n",
       "       [ 3, 35],\n",
       "       [ 1, 34],\n",
       "       [ 4, 41],\n",
       "       [ 2, 23]])"
      ]
     },
     "execution_count": 20,
     "metadata": {},
     "output_type": "execute_result"
    }
   ],
   "source": [
    "array4 = np.array([[1,23],[4,43],[1,17],[3,53],[5,23],[1,42],[3,35],[1,34],[4,41],[2,23]])\n",
    "array4"
   ]
  },
  {
   "cell_type": "code",
   "execution_count": 21,
   "id": "19f43a39",
   "metadata": {},
   "outputs": [
    {
     "data": {
      "text/plain": [
       "(10, 2)"
      ]
     },
     "execution_count": 21,
     "metadata": {},
     "output_type": "execute_result"
    }
   ],
   "source": [
    "array4.shape"
   ]
  },
  {
   "cell_type": "code",
   "execution_count": 22,
   "id": "e7dba5fa",
   "metadata": {},
   "outputs": [
    {
     "data": {
      "text/plain": [
       "array([ True, False,  True, False, False,  True, False,  True, False,\n",
       "       False])"
      ]
     },
     "execution_count": 22,
     "metadata": {},
     "output_type": "execute_result"
    }
   ],
   "source": [
    "array4[:,0] == 1"
   ]
  },
  {
   "cell_type": "code",
   "execution_count": 23,
   "id": "76176d7e",
   "metadata": {},
   "outputs": [
    {
     "data": {
      "text/plain": [
       "array([[ 1, 23],\n",
       "       [ 1, 17],\n",
       "       [ 1, 42],\n",
       "       [ 1, 34]])"
      ]
     },
     "execution_count": 23,
     "metadata": {},
     "output_type": "execute_result"
    }
   ],
   "source": [
    "array4[array4[:,0] == 1]"
   ]
  },
  {
   "cell_type": "code",
   "execution_count": null,
   "id": "5f42848d",
   "metadata": {},
   "outputs": [],
   "source": []
  }
 ],
 "metadata": {
  "kernelspec": {
   "display_name": "Python 3 (ipykernel)",
   "language": "python",
   "name": "python3"
  },
  "language_info": {
   "codemirror_mode": {
    "name": "ipython",
    "version": 3
   },
   "file_extension": ".py",
   "mimetype": "text/x-python",
   "name": "python",
   "nbconvert_exporter": "python",
   "pygments_lexer": "ipython3",
   "version": "3.9.7"
  }
 },
 "nbformat": 4,
 "nbformat_minor": 5
}
