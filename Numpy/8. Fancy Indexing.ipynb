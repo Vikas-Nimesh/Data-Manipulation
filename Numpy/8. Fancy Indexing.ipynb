{
 "cells": [
  {
   "cell_type": "code",
   "execution_count": 1,
   "id": "cc5fdad2",
   "metadata": {},
   "outputs": [],
   "source": [
    "import numpy as np"
   ]
  },
  {
   "cell_type": "markdown",
   "id": "eb811b66",
   "metadata": {},
   "source": [
    "# Fancy Indexing"
   ]
  },
  {
   "cell_type": "code",
   "execution_count": 2,
   "id": "f48a3714",
   "metadata": {},
   "outputs": [
    {
     "data": {
      "text/plain": [
       "array([ 3,  3, 12, 17,  1, 37, 11, 12, 32, 42])"
      ]
     },
     "execution_count": 2,
     "metadata": {},
     "output_type": "execute_result"
    }
   ],
   "source": [
    "array = np.random.randint(50, size = (10))\n",
    "array"
   ]
  },
  {
   "cell_type": "code",
   "execution_count": 4,
   "id": "98e9ee15",
   "metadata": {},
   "outputs": [
    {
     "data": {
      "text/plain": [
       "array([ 3, 17, 37, 12])"
      ]
     },
     "execution_count": 4,
     "metadata": {},
     "output_type": "execute_result"
    }
   ],
   "source": [
    "index = [1,3,5,7]\n",
    "array[index]"
   ]
  },
  {
   "cell_type": "markdown",
   "id": "c2fc78e0",
   "metadata": {},
   "source": [
    "Note: Returned array always be the same shape of passed indexes"
   ]
  },
  {
   "cell_type": "code",
   "execution_count": 6,
   "id": "83e7233f",
   "metadata": {},
   "outputs": [
    {
     "data": {
      "text/plain": [
       "array([[ 3, 17],\n",
       "       [37, 12]])"
      ]
     },
     "execution_count": 6,
     "metadata": {},
     "output_type": "execute_result"
    }
   ],
   "source": [
    "index2 = np.array([[1,3],[5,7]])\n",
    "array[index2]"
   ]
  },
  {
   "cell_type": "code",
   "execution_count": 9,
   "id": "446e9470",
   "metadata": {},
   "outputs": [
    {
     "data": {
      "text/plain": [
       "array([[70, 64,  3, 85],\n",
       "       [80, 72, 77,  3],\n",
       "       [27, 50, 55, 78]])"
      ]
     },
     "execution_count": 9,
     "metadata": {},
     "output_type": "execute_result"
    }
   ],
   "source": [
    "array2 = np.random.randint(100,size = (3,4))\n",
    "array2"
   ]
  },
  {
   "cell_type": "markdown",
   "id": "4acaf06f",
   "metadata": {},
   "source": [
    "## Lets suppose we want multiple elements from this array <br>\n",
    "i.e. 85, 77, 78"
   ]
  },
  {
   "cell_type": "code",
   "execution_count": 11,
   "id": "67cbf4ba",
   "metadata": {},
   "outputs": [
    {
     "data": {
      "text/plain": [
       "array([85, 77, 78])"
      ]
     },
     "execution_count": 11,
     "metadata": {},
     "output_type": "execute_result"
    }
   ],
   "source": [
    "index3 = ((0,1,2),(3,2,3))\n",
    "array2[index3]"
   ]
  },
  {
   "cell_type": "code",
   "execution_count": 12,
   "id": "36bbec94",
   "metadata": {},
   "outputs": [
    {
     "data": {
      "text/plain": [
       "array([85, 77, 78])"
      ]
     },
     "execution_count": 12,
     "metadata": {},
     "output_type": "execute_result"
    }
   ],
   "source": [
    "row = [0,1,2]\n",
    "column = [3,2,3]\n",
    "array2[row,column]"
   ]
  },
  {
   "cell_type": "code",
   "execution_count": null,
   "id": "59298508",
   "metadata": {},
   "outputs": [],
   "source": []
  }
 ],
 "metadata": {
  "kernelspec": {
   "display_name": "Python 3 (ipykernel)",
   "language": "python",
   "name": "python3"
  },
  "language_info": {
   "codemirror_mode": {
    "name": "ipython",
    "version": 3
   },
   "file_extension": ".py",
   "mimetype": "text/x-python",
   "name": "python",
   "nbconvert_exporter": "python",
   "pygments_lexer": "ipython3",
   "version": "3.9.7"
  }
 },
 "nbformat": 4,
 "nbformat_minor": 5
}
