{
 "cells": [
  {
   "cell_type": "code",
   "execution_count": 4,
   "id": "b7a97364",
   "metadata": {},
   "outputs": [],
   "source": [
    "import numpy as np"
   ]
  },
  {
   "cell_type": "markdown",
   "id": "95f8624c",
   "metadata": {},
   "source": [
    "# Transposing Arrays"
   ]
  },
  {
   "cell_type": "code",
   "execution_count": 5,
   "id": "a905de59",
   "metadata": {},
   "outputs": [
    {
     "data": {
      "text/plain": [
       "array([[16,  4, 11, 19],\n",
       "       [ 9, 11, 17, 18],\n",
       "       [16, 16,  6,  6]])"
      ]
     },
     "execution_count": 5,
     "metadata": {},
     "output_type": "execute_result"
    }
   ],
   "source": [
    "array = np.random.randint(20, size = (3,4))\n",
    "array"
   ]
  },
  {
   "cell_type": "code",
   "execution_count": 7,
   "id": "c7095b44",
   "metadata": {},
   "outputs": [
    {
     "data": {
      "text/plain": [
       "array([[16,  9, 16],\n",
       "       [ 4, 11, 16],\n",
       "       [11, 17,  6],\n",
       "       [19, 18,  6]])"
      ]
     },
     "execution_count": 7,
     "metadata": {},
     "output_type": "execute_result"
    }
   ],
   "source": [
    "array.transpose()"
   ]
  },
  {
   "cell_type": "code",
   "execution_count": 8,
   "id": "5366d820",
   "metadata": {},
   "outputs": [
    {
     "data": {
      "text/plain": [
       "array([[16,  9, 16],\n",
       "       [ 4, 11, 16],\n",
       "       [11, 17,  6],\n",
       "       [19, 18,  6]])"
      ]
     },
     "execution_count": 8,
     "metadata": {},
     "output_type": "execute_result"
    }
   ],
   "source": [
    "array.T"
   ]
  },
  {
   "cell_type": "markdown",
   "id": "2e6cf411",
   "metadata": {},
   "source": [
    "Note: 1-D array have no effect of using transpose"
   ]
  }
 ],
 "metadata": {
  "kernelspec": {
   "display_name": "Python 3 (ipykernel)",
   "language": "python",
   "name": "python3"
  },
  "language_info": {
   "codemirror_mode": {
    "name": "ipython",
    "version": 3
   },
   "file_extension": ".py",
   "mimetype": "text/x-python",
   "name": "python",
   "nbconvert_exporter": "python",
   "pygments_lexer": "ipython3",
   "version": "3.9.7"
  }
 },
 "nbformat": 4,
 "nbformat_minor": 5
}
