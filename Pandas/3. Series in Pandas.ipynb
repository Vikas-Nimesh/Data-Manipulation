{
 "cells": [
  {
   "cell_type": "code",
   "execution_count": 1,
   "id": "163b70bd",
   "metadata": {},
   "outputs": [],
   "source": [
    "import pandas as pd"
   ]
  },
  {
   "cell_type": "markdown",
   "id": "c8cfbff1",
   "metadata": {},
   "source": [
    "# Series in Pandas"
   ]
  },
  {
   "cell_type": "markdown",
   "id": "09ae6854",
   "metadata": {},
   "source": [
    "Npte: In pandas series is same like array with index by default."
   ]
  },
  {
   "cell_type": "code",
   "execution_count": 15,
   "id": "9691b7b4",
   "metadata": {},
   "outputs": [
    {
     "data": {
      "text/plain": [
       "0    10\n",
       "1    50\n",
       "2    40\n",
       "3    55\n",
       "dtype: int64"
      ]
     },
     "execution_count": 15,
     "metadata": {},
     "output_type": "execute_result"
    }
   ],
   "source": [
    "data = pd.Series([10,50,40,55])\n",
    "data"
   ]
  },
  {
   "cell_type": "markdown",
   "id": "c2e3c074",
   "metadata": {},
   "source": [
    "# Extracting values from series"
   ]
  },
  {
   "cell_type": "code",
   "execution_count": 12,
   "id": "6a013dc5",
   "metadata": {},
   "outputs": [
    {
     "data": {
      "text/plain": [
       "array([10, 50, 40, 55], dtype=int64)"
      ]
     },
     "execution_count": 12,
     "metadata": {},
     "output_type": "execute_result"
    }
   ],
   "source": [
    "data.values"
   ]
  },
  {
   "cell_type": "code",
   "execution_count": 13,
   "id": "639b1188",
   "metadata": {},
   "outputs": [
    {
     "data": {
      "text/plain": [
       "numpy.ndarray"
      ]
     },
     "execution_count": 13,
     "metadata": {},
     "output_type": "execute_result"
    }
   ],
   "source": [
    "type(data.values)"
   ]
  },
  {
   "cell_type": "markdown",
   "id": "3cf55c71",
   "metadata": {},
   "source": [
    "# Extracting index from series"
   ]
  },
  {
   "cell_type": "code",
   "execution_count": 16,
   "id": "45f0d9b9",
   "metadata": {},
   "outputs": [
    {
     "data": {
      "text/plain": [
       "RangeIndex(start=0, stop=4, step=1)"
      ]
     },
     "execution_count": 16,
     "metadata": {},
     "output_type": "execute_result"
    }
   ],
   "source": [
    "data.index"
   ]
  },
  {
   "cell_type": "code",
   "execution_count": 19,
   "id": "001759b2",
   "metadata": {},
   "outputs": [
    {
     "data": {
      "text/plain": [
       "Index(['a', 'b', 'c', 'd'], dtype='object')"
      ]
     },
     "execution_count": 19,
     "metadata": {},
     "output_type": "execute_result"
    }
   ],
   "source": [
    "data2 = pd.Series([10,50,40,55],index = ['a','b','c','d'])\n",
    "data2.index"
   ]
  },
  {
   "cell_type": "markdown",
   "id": "c3552972",
   "metadata": {},
   "source": [
    "# Extracing value using index"
   ]
  },
  {
   "cell_type": "code",
   "execution_count": 22,
   "id": "26a82b6c",
   "metadata": {},
   "outputs": [
    {
     "data": {
      "text/plain": [
       "10"
      ]
     },
     "execution_count": 22,
     "metadata": {},
     "output_type": "execute_result"
    }
   ],
   "source": [
    "data2['a']"
   ]
  },
  {
   "cell_type": "markdown",
   "id": "9b45d338",
   "metadata": {},
   "source": [
    "## To Extract more than one value we uses double [ ]"
   ]
  },
  {
   "cell_type": "code",
   "execution_count": 24,
   "id": "84b7f0df",
   "metadata": {},
   "outputs": [
    {
     "data": {
      "text/plain": [
       "a    10\n",
       "b    50\n",
       "c    40\n",
       "dtype: int64"
      ]
     },
     "execution_count": 24,
     "metadata": {},
     "output_type": "execute_result"
    }
   ],
   "source": [
    "data2[['a','b','c']]"
   ]
  },
  {
   "cell_type": "markdown",
   "id": "730c3cd2",
   "metadata": {},
   "source": [
    "# Boolean indexing in Series"
   ]
  },
  {
   "cell_type": "code",
   "execution_count": 28,
   "id": "cdb2dd55",
   "metadata": {},
   "outputs": [
    {
     "data": {
      "text/plain": [
       "b    50\n",
       "d    55\n",
       "dtype: int64"
      ]
     },
     "execution_count": 28,
     "metadata": {},
     "output_type": "execute_result"
    }
   ],
   "source": [
    "data[data2 > 40]"
   ]
  },
  {
   "cell_type": "markdown",
   "id": "ceb1b6fd",
   "metadata": {},
   "source": [
    "# Broadcasting"
   ]
  },
  {
   "cell_type": "code",
   "execution_count": 35,
   "id": "d382bed9",
   "metadata": {
    "scrolled": true
   },
   "outputs": [
    {
     "data": {
      "text/plain": [
       "a     20\n",
       "b    100\n",
       "c     80\n",
       "d    110\n",
       "dtype: int64"
      ]
     },
     "execution_count": 35,
     "metadata": {},
     "output_type": "execute_result"
    }
   ],
   "source": [
    "data2 * 2"
   ]
  },
  {
   "cell_type": "markdown",
   "id": "99949296",
   "metadata": {},
   "source": [
    "# We can also create series using dictionary"
   ]
  },
  {
   "cell_type": "code",
   "execution_count": 31,
   "id": "837d6120",
   "metadata": {},
   "outputs": [
    {
     "data": {
      "text/plain": [
       "sam       50\n",
       "ramesh    40\n",
       "rakesh    35\n",
       "dtype: int64"
      ]
     },
     "execution_count": 31,
     "metadata": {},
     "output_type": "execute_result"
    }
   ],
   "source": [
    "marks = {'sam':50,'ramesh':40,'rakesh':35}\n",
    "data3 = pd.Series(marks)\n",
    "data3"
   ]
  },
  {
   "cell_type": "code",
   "execution_count": 32,
   "id": "92d8798d",
   "metadata": {},
   "outputs": [
    {
     "data": {
      "text/plain": [
       "Index(['sam', 'ramesh', 'rakesh'], dtype='object')"
      ]
     },
     "execution_count": 32,
     "metadata": {},
     "output_type": "execute_result"
    }
   ],
   "source": [
    "data3.index"
   ]
  },
  {
   "cell_type": "code",
   "execution_count": 33,
   "id": "81100535",
   "metadata": {},
   "outputs": [
    {
     "data": {
      "text/plain": [
       "array([50, 40, 35], dtype=int64)"
      ]
     },
     "execution_count": 33,
     "metadata": {},
     "output_type": "execute_result"
    }
   ],
   "source": [
    "data3.values"
   ]
  },
  {
   "cell_type": "markdown",
   "id": "22680575",
   "metadata": {},
   "source": [
    "# Checking a values is present in index"
   ]
  },
  {
   "cell_type": "code",
   "execution_count": 34,
   "id": "2425d33b",
   "metadata": {},
   "outputs": [
    {
     "data": {
      "text/plain": [
       "True"
      ]
     },
     "execution_count": 34,
     "metadata": {},
     "output_type": "execute_result"
    }
   ],
   "source": [
    "'sam' in data3.index"
   ]
  },
  {
   "cell_type": "markdown",
   "id": "35c7608f",
   "metadata": {},
   "source": [
    "# Assigning name of index column"
   ]
  },
  {
   "cell_type": "code",
   "execution_count": 37,
   "id": "31f555a5",
   "metadata": {},
   "outputs": [],
   "source": [
    "data3.index.name = 'names'"
   ]
  },
  {
   "cell_type": "code",
   "execution_count": 39,
   "id": "43ab2cb7",
   "metadata": {},
   "outputs": [
    {
     "data": {
      "text/plain": [
       "names\n",
       "sam       50\n",
       "ramesh    40\n",
       "rakesh    35\n",
       "dtype: int64"
      ]
     },
     "execution_count": 39,
     "metadata": {},
     "output_type": "execute_result"
    }
   ],
   "source": [
    "data3"
   ]
  },
  {
   "cell_type": "code",
   "execution_count": null,
   "id": "4cfd30d6",
   "metadata": {},
   "outputs": [],
   "source": []
  }
 ],
 "metadata": {
  "kernelspec": {
   "display_name": "Python 3 (ipykernel)",
   "language": "python",
   "name": "python3"
  },
  "language_info": {
   "codemirror_mode": {
    "name": "ipython",
    "version": 3
   },
   "file_extension": ".py",
   "mimetype": "text/x-python",
   "name": "python",
   "nbconvert_exporter": "python",
   "pygments_lexer": "ipython3",
   "version": "3.9.7"
  }
 },
 "nbformat": 4,
 "nbformat_minor": 5
}
