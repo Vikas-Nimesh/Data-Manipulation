{
 "cells": [
  {
   "cell_type": "markdown",
   "id": "0d80ce03",
   "metadata": {},
   "source": [
    "<img src=\"https://res.cloudinary.com/practicaldev/image/fetch/s--0NjKq1sP--/c_imagga_scale,f_auto,fl_progressive,h_420,q_auto,w_1000/https://dev-to-uploads.s3.amazonaws.com/i/ahxftwer1lt7514gwfsr.png\" width=\"375\">"
   ]
  },
  {
   "cell_type": "markdown",
   "id": "4536b032",
   "metadata": {},
   "source": [
    "# Table of Contents"
   ]
  },
  {
   "cell_type": "markdown",
   "id": "81df49ae",
   "metadata": {},
   "source": [
    "### [1. What Is Pandas](2.%20What%20is%20Pandas.ipynb)"
   ]
  },
  {
   "cell_type": "markdown",
   "id": "b85c1646",
   "metadata": {},
   "source": [
    "### [2. Series in Pandas](3.%20Series%20in%20Pandas.ipynb)"
   ]
  },
  {
   "cell_type": "markdown",
   "id": "e8f3305a",
   "metadata": {},
   "source": [
    "### [3. Dataframe in Pandas](4.%20Dataframe%20in%20Pandas.ipynb)"
   ]
  },
  {
   "cell_type": "markdown",
   "id": "a92aaabd",
   "metadata": {},
   "source": [
    "### [4.Index Objects in Pandas](5.%20Index%20Objects.ipynb)"
   ]
  },
  {
   "cell_type": "markdown",
   "id": "705e515d",
   "metadata": {},
   "source": [
    "### [5. Deleting Rows and Columns in Pandas](6.%20Deleting%20Rows%20and%20Columns.ipynb)"
   ]
  },
  {
   "cell_type": "markdown",
   "id": "001347a4",
   "metadata": {},
   "source": [
    "### [6. Indexing, Slicing and Filtering](7.%20Indexing%2C%20Slicing%20and%20Filtering.ipynb)"
   ]
  },
  {
   "cell_type": "markdown",
   "id": "0c45b378",
   "metadata": {},
   "source": [
    "### [7. Arithmetic Operation in Pandas](8.%20Arithmetic%20Operation%20in%20Pandas.ipynb)"
   ]
  },
  {
   "cell_type": "markdown",
   "id": "1f873c9c",
   "metadata": {},
   "source": [
    "### [8. Sorting in Pandas](9.%20Sorting%20in%20Pandas.ipynb)"
   ]
  },
  {
   "cell_type": "markdown",
   "id": "f087438c",
   "metadata": {},
   "source": [
    "### [9. Descriptive Statistics in Pandas](10.%20Descriptive%20Statistics%20in%20Pandas.ipynb)"
   ]
  },
  {
   "cell_type": "markdown",
   "id": "9e40fc5f",
   "metadata": {},
   "source": [
    "### [10. Correlation & Covariance in Pandas](11.%20Correlation%20and%20Covariance.ipynb)"
   ]
  }
 ],
 "metadata": {
  "kernelspec": {
   "display_name": "Python 3 (ipykernel)",
   "language": "python",
   "name": "python3"
  },
  "language_info": {
   "codemirror_mode": {
    "name": "ipython",
    "version": 3
   },
   "file_extension": ".py",
   "mimetype": "text/x-python",
   "name": "python",
   "nbconvert_exporter": "python",
   "pygments_lexer": "ipython3",
   "version": "3.9.7"
  }
 },
 "nbformat": 4,
 "nbformat_minor": 5
}
